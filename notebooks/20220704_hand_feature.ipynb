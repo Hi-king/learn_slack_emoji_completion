{
 "cells": [
  {
   "cell_type": "markdown",
   "metadata": {},
   "source": [
    "# Hand reverse engineering slack emoji completion algorithm"
   ]
  },
  {
   "cell_type": "code",
   "execution_count": 79,
   "metadata": {},
   "outputs": [],
   "source": [
    "import pathlib\n",
    "import pandas as pd\n",
    "import re\n",
    "import Levenshtein\n",
    "import json\n",
    "from tqdm.auto import tqdm"
   ]
  },
  {
   "cell_type": "code",
   "execution_count": 1,
   "metadata": {},
   "outputs": [
    {
     "name": "stderr",
     "output_type": "stream",
     "text": [
      "/Users/keisuke.ogaki/.ghq/github.com/Hi-king/learn_slack_emoji_completion/.venv/lib/python3.9/site-packages/tqdm/auto.py:22: TqdmWarning: IProgress not found. Please update jupyter and ipywidgets. See https://ipywidgets.readthedocs.io/en/stable/user_install.html\n",
      "  from .autonotebook import tqdm as notebook_tqdm\n"
     ]
    }
   ],
   "source": [
    "import sys\n",
    "sys.path.append('..')\n",
    "import emojicompletion"
   ]
  },
  {
   "cell_type": "code",
   "execution_count": 4,
   "metadata": {},
   "outputs": [],
   "source": [
    "candidates, case_dict = emojicompletion.data.SlackEmojiCompletionDataset(\n",
    "    directory=pathlib.Path('..') /\n",
    "    'data').load(filter_by_vocabulary=True)\n"
   ]
  },
  {
   "cell_type": "code",
   "execution_count": 77,
   "metadata": {},
   "outputs": [],
   "source": [
    "params = json.load(open('../results/2input_l2_lstm_batch50_lr0.001_commitea975c7_hardnegFalse_20220706103635/params.json'))\n",
    "keys_test = params['keys_test']"
   ]
  },
  {
   "cell_type": "code",
   "execution_count": 8,
   "metadata": {},
   "outputs": [],
   "source": [
    "def distance(query, target):\n",
    "    if not set(query).issubset(target):\n",
    "        return 99999\n",
    "    else:\n",
    "        return target.find(query[0])\n"
   ]
  },
  {
   "cell_type": "code",
   "execution_count": 63,
   "metadata": {},
   "outputs": [
    {
     "data": {
      "text/plain": [
       "['akaa']"
      ]
     },
     "execution_count": 63,
     "metadata": {},
     "output_type": "execute_result"
    }
   ],
   "source": [
    "re.findall('a.*?a.*?a', 'bakaabbaa')"
   ]
  },
  {
   "cell_type": "code",
   "execution_count": 65,
   "metadata": {},
   "outputs": [
    {
     "data": {
      "text/plain": [
       "'a.*?a.*?a'"
      ]
     },
     "execution_count": 65,
     "metadata": {},
     "output_type": "execute_result"
    }
   ],
   "source": [
    "'.*?'.join('aaa')"
   ]
  },
  {
   "cell_type": "code",
   "execution_count": null,
   "metadata": {},
   "outputs": [],
   "source": [
    "def distance(query, target):\n",
    "\n",
    "    if not set(query).issubset(target):\n",
    "        return 99999\n",
    "    else:\n",
    "        return target.find(query[0])"
   ]
  },
  {
   "cell_type": "code",
   "execution_count": 74,
   "metadata": {},
   "outputs": [],
   "source": [
    "def distance2(query, target):\n",
    "\n",
    "    if not set(query).issubset(target):\n",
    "        return 9999999999\n",
    "    else:\n",
    "        pattern = '.*?'.join(query)\n",
    "        matches = re.findall(pattern, target)\n",
    "        if not matches:\n",
    "            return 999999999\n",
    "        else:\n",
    "            return min(len(found) for found in matches)*100+target.find(query[0])"
   ]
  },
  {
   "cell_type": "code",
   "execution_count": 83,
   "metadata": {},
   "outputs": [],
   "source": [
    "def distance3(query, target):\n",
    "\n",
    "    if not set(query).issubset(target):\n",
    "        return 9999999999\n",
    "    else:\n",
    "        pattern = '.*?'.join(query)\n",
    "        matches = re.findall(pattern, target)\n",
    "        if not matches:\n",
    "            return 999999999\n",
    "        else:\n",
    "            return min(len(found) for found in matches)*100+len(target)"
   ]
  },
  {
   "cell_type": "code",
   "execution_count": 29,
   "metadata": {},
   "outputs": [],
   "source": [
    "def get_rank(key, target_true, distance_func):\n",
    "    distances = [distance_func(key, target) for target in candidates]\n",
    "    df = pd.DataFrame(dict(\n",
    "        key=[key] * len(candidates),\n",
    "        distance=distances,\n",
    "        target=list(candidates),\n",
    "    ))\n",
    "    df = df.sort_values(by=\"distance\", ascending=True).assign(rank=range(1, len(df)+1))\n",
    "    return df[df[\"target\"] == target_true].iloc[0]['rank']"
   ]
  },
  {
   "cell_type": "code",
   "execution_count": 24,
   "metadata": {},
   "outputs": [
    {
     "data": {
      "text/plain": [
       "237"
      ]
     },
     "execution_count": 24,
     "metadata": {},
     "output_type": "execute_result"
    }
   ],
   "source": [
    "get_rank('aaa', 'kaaba')"
   ]
  },
  {
   "cell_type": "code",
   "execution_count": 25,
   "metadata": {},
   "outputs": [],
   "source": [
    "keys = ['it', 'dg', 'hy', 'get', 'vlo']"
   ]
  },
  {
   "cell_type": "code",
   "execution_count": 31,
   "metadata": {},
   "outputs": [
    {
     "name": "stdout",
     "output_type": "stream",
     "text": [
      "it 1\n",
      "dg 24\n",
      "hy 20\n",
      "get 93\n",
      "vlo 7\n"
     ]
    }
   ],
   "source": [
    "for key in keys:\n",
    "    print(key, get_rank(key, case_dict[key][0], distance_func=distance))"
   ]
  },
  {
   "cell_type": "code",
   "execution_count": 75,
   "metadata": {},
   "outputs": [
    {
     "name": "stdout",
     "output_type": "stream",
     "text": [
      "it 1\n",
      "dg 1\n",
      "hy 1\n",
      "get 5\n",
      "vlo 1\n"
     ]
    }
   ],
   "source": [
    "for key in keys:\n",
    "    print(key, get_rank(key, case_dict[key][0], distance_func=distance2))"
   ]
  },
  {
   "cell_type": "code",
   "execution_count": 37,
   "metadata": {},
   "outputs": [
    {
     "name": "stdout",
     "output_type": "stream",
     "text": [
      "it 1\n",
      "dg 64\n",
      "hy 148\n",
      "get 1566\n",
      "vlo 344\n"
     ]
    }
   ],
   "source": [
    "for key in keys:\n",
    "    print(key, get_rank(key, case_dict[key][0], distance_func=Levenshtein.distance))"
   ]
  },
  {
   "cell_type": "code",
   "execution_count": 38,
   "metadata": {},
   "outputs": [
    {
     "name": "stdout",
     "output_type": "stream",
     "text": [
      "it 1891\n",
      "dg 84\n",
      "hy 1028\n",
      "get 320\n",
      "vlo 1323\n"
     ]
    }
   ],
   "source": [
    "for key in keys:\n",
    "    print(key, get_rank(key, case_dict[key][0], distance_func=Levenshtein.jaro_winkler))"
   ]
  },
  {
   "cell_type": "code",
   "execution_count": 78,
   "metadata": {},
   "outputs": [],
   "source": [
    "def get_rank_df(key, distance_func):\n",
    "    distances = [distance_func(key, target) for target in candidates]\n",
    "    df = pd.DataFrame(dict(\n",
    "        key=[key] * len(candidates),\n",
    "        distance=distances,\n",
    "        target=list(candidates),\n",
    "    ))\n",
    "    df = df.sort_values(by=\"distance\", ascending=True).assign(rank=range(1, len(df)+1))\n",
    "    return df"
   ]
  },
  {
   "cell_type": "code",
   "execution_count": 80,
   "metadata": {},
   "outputs": [
    {
     "name": "stderr",
     "output_type": "stream",
     "text": [
      "100%|██████████| 100/100 [00:01<00:00, 69.58it/s]\n"
     ]
    }
   ],
   "source": [
    "all_df = pd.DataFrame(index=candidates)\n",
    "for key in tqdm(keys_test[:100]):\n",
    "    df = get_rank_df(key, distance_func=distance2)\n",
    "    all_df = all_df.assign(**{key: df.set_index(\"target\")[\"rank\"]})\n",
    "    "
   ]
  },
  {
   "cell_type": "code",
   "execution_count": 82,
   "metadata": {},
   "outputs": [
    {
     "name": "stdout",
     "output_type": "stream",
     "text": [
      "82 1452 17.70731707317073\n"
     ]
    }
   ],
   "source": [
    "n = 0\n",
    "ranks = 0\n",
    "for key in all_df.columns:\n",
    "    targets = case_dict[key]\n",
    "    n += len(targets)\n",
    "    ranks += all_df.loc[targets, key].sum()\n",
    "print(n, ranks, ranks/n)"
   ]
  },
  {
   "cell_type": "code",
   "execution_count": 84,
   "metadata": {},
   "outputs": [
    {
     "name": "stderr",
     "output_type": "stream",
     "text": [
      "100%|██████████| 100/100 [00:02<00:00, 42.71it/s]\n"
     ]
    }
   ],
   "source": [
    "all_df = pd.DataFrame(index=candidates)\n",
    "for key in tqdm(keys_test[:100]):\n",
    "    df = get_rank_df(key, distance_func=distance3)\n",
    "    all_df = all_df.assign(**{key: df.set_index(\"target\")[\"rank\"]})\n",
    "    "
   ]
  },
  {
   "cell_type": "code",
   "execution_count": 85,
   "metadata": {},
   "outputs": [
    {
     "name": "stdout",
     "output_type": "stream",
     "text": [
      "82 1227 14.963414634146341\n"
     ]
    }
   ],
   "source": [
    "n = 0\n",
    "ranks = 0\n",
    "for key in all_df.columns:\n",
    "    targets = case_dict[key]\n",
    "    n += len(targets)\n",
    "    ranks += all_df.loc[targets, key].sum()\n",
    "print(n, ranks, ranks/n)"
   ]
  },
  {
   "cell_type": "code",
   "execution_count": null,
   "metadata": {},
   "outputs": [],
   "source": []
  }
 ],
 "metadata": {
  "interpreter": {
   "hash": "36b2afb041bc499803a868cbb55e3f679d3fdc5806505baba5cd82964b201292"
  },
  "kernelspec": {
   "display_name": "Python 3.9.1 ('.venv': poetry)",
   "language": "python",
   "name": "python3"
  },
  "language_info": {
   "codemirror_mode": {
    "name": "ipython",
    "version": 3
   },
   "file_extension": ".py",
   "mimetype": "text/x-python",
   "name": "python",
   "nbconvert_exporter": "python",
   "pygments_lexer": "ipython3",
   "version": "3.9.1"
  },
  "orig_nbformat": 4
 },
 "nbformat": 4,
 "nbformat_minor": 2
}
