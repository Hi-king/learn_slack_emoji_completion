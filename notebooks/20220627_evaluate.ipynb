{
 "cells": [
  {
   "cell_type": "code",
   "execution_count": 1,
   "metadata": {},
   "outputs": [
    {
     "name": "stderr",
     "output_type": "stream",
     "text": [
      "/Users/keisuke.ogaki/.ghq/github.com/Hi-king/learn_slack_emoji_completion/.venv/lib/python3.9/site-packages/tqdm/auto.py:22: TqdmWarning: IProgress not found. Please update jupyter and ipywidgets. See https://ipywidgets.readthedocs.io/en/stable/user_install.html\n",
      "  from .autonotebook import tqdm as notebook_tqdm\n"
     ]
    }
   ],
   "source": [
    "import torch\n",
    "import pathlib\n",
    "import random\n",
    "import json\n",
    "from tqdm.auto import tqdm\n",
    "import more_itertools\n",
    "import numpy as np\n",
    "import pandas as pd"
   ]
  },
  {
   "cell_type": "code",
   "execution_count": 2,
   "metadata": {},
   "outputs": [],
   "source": [
    "import sys\n",
    "sys.path.append('..')\n",
    "import emojicompletion"
   ]
  },
  {
   "cell_type": "code",
   "execution_count": 3,
   "metadata": {},
   "outputs": [],
   "source": [
    "tokenizer = emojicompletion.data.Tokenizer()\n",
    "candidates, case_dict = emojicompletion.data.SlackEmojiCompletionDataset(\n",
    "    directory=pathlib.Path('..') /\n",
    "    'data').load(filter_by_vocabulary=True)\n",
    "candidates = list(candidates)\n"
   ]
  },
  {
   "cell_type": "code",
   "execution_count": 4,
   "metadata": {},
   "outputs": [],
   "source": [
    "model = emojicompletion.model.SimpleLSTM(\n",
    "    n_token=len(tokenizer.dictionary),\n",
    "    output_type='last',\n",
    ")\n",
    "\n",
    "model.load_state_dict(torch.load('../results/adaptivelstm_batch50_lr0.0001_commitea975c7_hardnegTrue_20220706084401/model_epoch400.pth'))\n",
    "model = model.eval()\n",
    "\n",
    "params = json.load(open('../results/2input_l2_lstm_batch50_lr0.001_commitea975c7_hardnegFalse_20220706103635/params.json'))\n",
    "keys_test = params['keys_test']"
   ]
  },
  {
   "cell_type": "code",
   "execution_count": 7,
   "metadata": {},
   "outputs": [
    {
     "name": "stderr",
     "output_type": "stream",
     "text": [
      "100%|██████████| 100/100 [01:43<00:00,  1.04s/it]\n"
     ]
    }
   ],
   "source": [
    "all_df = pd.DataFrame(index=candidates)\n",
    "for key in tqdm(keys_test[:100]):\n",
    "    result = []\n",
    "    for xs_str in more_itertools.chunked(candidates, n=100):\n",
    "        with torch.inference_mode():\n",
    "            maxlen = max(len(x) for x in xs_str)\n",
    "\n",
    "            xs = torch.stack(\n",
    "                [\n",
    "                    tokenizer.tokenize(key + '/' + x + \"*\" * (maxlen - len(x)))\n",
    "                    for x in xs_str\n",
    "                ],\n",
    "                dim=-1,\n",
    "            )\n",
    "            pred = torch.nn.Sigmoid()(model(xs)).to('cpu').numpy()\n",
    "            for i in range(len(pred)):\n",
    "                score = pred[i,0]\n",
    "                result.append(dict(key=xs_str[i], score=score))\n",
    "    df = pd.DataFrame(result)\n",
    "    df = df.sort_values(by=\"score\", ascending=False).assign(rank=range(1, len(df)+1))\n",
    "    all_df = all_df.assign(**{key: df.set_index(\"key\")[\"rank\"]})"
   ]
  },
  {
   "cell_type": "code",
   "execution_count": 8,
   "metadata": {},
   "outputs": [
    {
     "name": "stdout",
     "output_type": "stream",
     "text": [
      "82 860 10.487804878048781\n"
     ]
    }
   ],
   "source": [
    "n = 0\n",
    "ranks = 0\n",
    "for key in all_df.columns:\n",
    "    targets = case_dict[key]\n",
    "    n += len(targets)\n",
    "    ranks += all_df.loc[targets, key].sum()\n",
    "print(n, ranks, ranks/n)\n"
   ]
  }
 ],
 "metadata": {
  "interpreter": {
   "hash": "36b2afb041bc499803a868cbb55e3f679d3fdc5806505baba5cd82964b201292"
  },
  "kernelspec": {
   "display_name": "Python 3.9.1 ('.venv': poetry)",
   "language": "python",
   "name": "python3"
  },
  "language_info": {
   "codemirror_mode": {
    "name": "ipython",
    "version": 3
   },
   "file_extension": ".py",
   "mimetype": "text/x-python",
   "name": "python",
   "nbconvert_exporter": "python",
   "pygments_lexer": "ipython3",
   "version": "3.9.1"
  },
  "orig_nbformat": 4
 },
 "nbformat": 4,
 "nbformat_minor": 2
}
